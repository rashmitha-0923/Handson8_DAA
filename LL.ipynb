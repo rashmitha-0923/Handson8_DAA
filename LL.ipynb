{
  "nbformat": 4,
  "nbformat_minor": 0,
  "metadata": {
    "colab": {
      "provenance": []
    },
    "kernelspec": {
      "name": "python3",
      "display_name": "Python 3"
    },
    "language_info": {
      "name": "python"
    }
  },
  "cells": [
    {
      "cell_type": "code",
      "execution_count": 1,
      "metadata": {
        "colab": {
          "base_uri": "https://localhost:8080/"
        },
        "id": "QZVhSEx5kONT",
        "outputId": "deadfbd2-fe2f-4e20-d16c-418f8f9cee2c"
      },
      "outputs": [
        {
          "output_type": "stream",
          "name": "stdout",
          "text": [
            "List contents: [10, 20, 30, 40, 50]\n",
            "Removed from start: 10\n",
            "Removed from end: 50\n",
            "List contents: [20, 30, 40]\n"
          ]
        }
      ],
      "source": [
        "class Node:\n",
        "    def __init__(self, value, next_index=-1):\n",
        "        self.value = value  # The data stored in the node\n",
        "        self.next = next_index  # Simulates the pointer to the next node\n",
        "\n",
        "class FixedSizeLinkedList:\n",
        "    def __init__(self, max_capacity):\n",
        "        self.storage = [None] * max_capacity  # Fixed-size array for node storage\n",
        "        self.head_index = -1  # Index of the first node (-1 indicates an empty list)\n",
        "        self.max_capacity = max_capacity\n",
        "        self.next_free_index = 0  # Indicates the next available index in the storage\n",
        "\n",
        "    def add(self, value):\n",
        "        if self.next_free_index >= self.max_capacity:\n",
        "            raise Exception(\"List is full! Cannot add more elements.\")\n",
        "\n",
        "        new_node = Node(value)  # Create a new node\n",
        "        if self.head_index == -1:  # If the list is empty\n",
        "            self.head_index = self.next_free_index  # Set head to the new node's index\n",
        "        else:\n",
        "            current_index = self.head_index\n",
        "            while self.storage[current_index].next != -1:  # Traverse to the last node\n",
        "                current_index = self.storage[current_index].next\n",
        "            self.storage[current_index].next = self.next_free_index  # Link the new node\n",
        "\n",
        "        self.storage[self.next_free_index] = new_node  # Place the new node in storage\n",
        "        self.next_free_index += 1  # Increment the index for the next available slot\n",
        "\n",
        "    def remove_first(self):\n",
        "        if self.head_index == -1:  # Check if the list is empty\n",
        "            raise Exception(\"List is empty! Cannot remove elements.\")\n",
        "\n",
        "        removed_value = self.storage[self.head_index].value  # Get the value of the head node\n",
        "        self.head_index = self.storage[self.head_index].next  # Update the head to the next node\n",
        "        return removed_value\n",
        "\n",
        "    def remove_last(self):\n",
        "        if self.head_index == -1:  # Check if the list is empty\n",
        "            raise Exception(\"List is empty! Cannot remove elements.\")\n",
        "\n",
        "        if self.storage[self.head_index].next == -1:  # Only one element in the list\n",
        "            removed_value = self.storage[self.head_index].value\n",
        "            self.head_index = -1  # List is now empty\n",
        "            return removed_value\n",
        "\n",
        "        current_index = self.head_index\n",
        "        while self.storage[self.storage[current_index].next].next != -1:  # Traverse to the second last node\n",
        "            current_index = self.storage[current_index].next\n",
        "\n",
        "        removed_value = self.storage[self.storage[current_index].next].value  # Get last value\n",
        "        self.storage[current_index].next = -1  # Disconnect the last node\n",
        "        return removed_value\n",
        "\n",
        "    def display(self):\n",
        "        if self.head_index == -1:  # Check if the list is empty\n",
        "            print(\"List is empty.\")\n",
        "        else:\n",
        "            current_index = self.head_index\n",
        "            elements = []\n",
        "            while current_index != -1:  # Traverse the list\n",
        "                elements.append(self.storage[current_index].value)\n",
        "                current_index = self.storage[current_index].next\n",
        "            print(\"List contents:\", elements)\n",
        "\n",
        "# Example Usage:\n",
        "if __name__ == \"__main__\":\n",
        "    linked_list = FixedSizeLinkedList(5)\n",
        "    linked_list.add(10)\n",
        "    linked_list.add(20)\n",
        "    linked_list.add(30)\n",
        "    linked_list.add(40)\n",
        "    linked_list.add(50)\n",
        "    linked_list.display()\n",
        "    print(\"Removed from start:\", linked_list.remove_first())\n",
        "    print(\"Removed from end:\", linked_list.remove_last())\n",
        "    linked_list.display()\n"
      ]
    }
  ]
}