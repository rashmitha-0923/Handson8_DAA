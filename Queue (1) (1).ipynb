{
  "nbformat": 4,
  "nbformat_minor": 0,
  "metadata": {
    "colab": {
      "provenance": []
    },
    "kernelspec": {
      "name": "python3",
      "display_name": "Python 3"
    },
    "language_info": {
      "name": "python"
    }
  },
  "cells": [
    {
      "cell_type": "code",
      "execution_count": 9,
      "metadata": {
        "colab": {
          "base_uri": "https://localhost:8080/"
        },
        "id": "IgU4IJ0wYVL6",
        "outputId": "38fa0ec7-7c5a-44fc-d73f-ffc20ec75fd6"
      },
      "outputs": [
        {
          "output_type": "stream",
          "name": "stdout",
          "text": [
            "Queue contents: [10, 20, 30, 40]\n",
            "Front item: 10\n",
            "Dequeued item: 10\n",
            "Queue contents: [20, 30, 40]\n",
            "Dequeued item: 20\n",
            "Queue contents: [30, 40]\n"
          ]
        }
      ],
      "source": [
        "class CircularQueue:\n",
        "    def __init__(self, max_capacity):\n",
        "        \"\"\"Initialize the circular queue with a fixed size.\"\"\"\n",
        "        self.storage = [0] * max_capacity  # Fixed-size array to hold queue elements\n",
        "        self.front_index = 0  # Index pointing to the front element\n",
        "        self.rear_index = -1  # Index pointing to the last element\n",
        "        self.max_capacity = max_capacity  # Maximum number of elements the queue can hold\n",
        "        self.size = 0  # Current number of elements in the queue\n",
        "\n",
        "    def is_empty(self):\n",
        "        \"\"\"Check if the queue is empty.\"\"\"\n",
        "        return self.size == 0\n",
        "\n",
        "    def is_full(self):\n",
        "        \"\"\"Check if the queue is full.\"\"\"\n",
        "        return self.size == self.max_capacity\n",
        "\n",
        "    def enqueue(self, item):\n",
        "        \"\"\"Add an item to the end of the queue.\"\"\"\n",
        "        if self.is_full():\n",
        "            raise OverflowError(\"Queue Overflow: Cannot add to a full queue.\")\n",
        "        self.rear_index = (self.rear_index + 1) % self.max_capacity  # Circularly move rear index\n",
        "        self.storage[self.rear_index] = item  # Insert the new item\n",
        "        self.size += 1  # Increment the size of the queue\n",
        "\n",
        "    def dequeue(self):\n",
        "        \"\"\"Remove and return the front item from the queue.\"\"\"\n",
        "        if self.is_empty():\n",
        "            raise IndexError(\"Queue Underflow: Cannot remove from an empty queue.\")\n",
        "        item = self.storage[self.front_index]  # Get the front item\n",
        "        self.front_index = (self.front_index + 1) % self.max_capacity  # Circularly move front index\n",
        "        self.size -= 1  # Decrement the size of the queue\n",
        "        return item\n",
        "\n",
        "    def peek(self):\n",
        "        \"\"\"Return the front item without removing it.\"\"\"\n",
        "        if self.is_empty():\n",
        "            raise IndexError(\"Queue is empty: Cannot access front item.\")\n",
        "        return self.storage[self.front_index]  # Return the front item\n",
        "\n",
        "    def display(self):\n",
        "        \"\"\"Show the current elements in the queue.\"\"\"\n",
        "        if self.is_empty():\n",
        "            print(\"Queue is empty.\")\n",
        "        else:\n",
        "            idx = self.front_index\n",
        "            elements = []\n",
        "            for _ in range(self.size):\n",
        "                elements.append(self.storage[idx])  # Collect items from the queue\n",
        "                idx = (idx + 1) % self.max_capacity  # Move index circularly\n",
        "            print(\"Queue contents:\", elements)\n",
        "\n",
        "# Example usage:\n",
        "if __name__ == \"__main__\":\n",
        "    circular_queue = CircularQueue(5)  # Create a circular queue with a maximum capacity of 5\n",
        "    circular_queue.enqueue(10)\n",
        "    circular_queue.enqueue(20)\n",
        "    circular_queue.enqueue(30)\n",
        "    circular_queue.enqueue(40)\n",
        "    circular_queue.display()  # Display the current contents of the queue\n",
        "    print(\"Front item:\", circular_queue.peek())  # Show the item at the front\n",
        "    print(\"Dequeued item:\", circular_queue.dequeue())  # Remove and show the front item\n",
        "    circular_queue.display()  # Display the queue contents after a dequeue\n",
        "    print(\"Dequeued item:\", circular_queue.dequeue())  # Remove another item\n",
        "    circular_queue.display()  # Display the updated contents of the queue\n"
      ]
    },
    {
      "cell_type": "code",
      "source": [],
      "metadata": {
        "id": "s0KUoeEVgZvr"
      },
      "execution_count": null,
      "outputs": []
    }
  ]
}