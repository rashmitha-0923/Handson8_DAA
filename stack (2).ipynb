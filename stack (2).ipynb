{
  "nbformat": 4,
  "nbformat_minor": 0,
  "metadata": {
    "colab": {
      "provenance": []
    },
    "kernelspec": {
      "name": "python3",
      "display_name": "Python 3"
    },
    "language_info": {
      "name": "python"
    }
  },
  "cells": [
    {
      "cell_type": "code",
      "execution_count": 2,
      "metadata": {
        "colab": {
          "base_uri": "https://localhost:8080/"
        },
        "id": "7whdhNcedw7b",
        "outputId": "40178bac-3918-4240-ff90-58a80bb67754"
      },
      "outputs": [
        {
          "output_type": "stream",
          "name": "stdout",
          "text": [
            "Stack contents: [7, 10, 17, 18]\n",
            "Top element: 18\n",
            "Popped element: 18\n",
            "Stack contents: [7, 10, 17]\n",
            "Stack contents: [7, 10, 17, 18]\n",
            "Top element: 18\n",
            "Pop element: 18\n",
            "Stack contents: [7, 10, 17]\n"
          ]
        },
        {
          "output_type": "execute_result",
          "data": {
            "text/plain": [
              "17"
            ]
          },
          "metadata": {},
          "execution_count": 2
        }
      ],
      "source": [
        "class Stack:\n",
        "    def __init__(self, max_size):\n",
        "        self.storage = [0] * max_size  # Fixed-size array to hold stack elements\n",
        "        self.top_index = -1  # Index of the top element (-1 indicates an empty stack)\n",
        "        self.max_size = max_size  # Maximum size of the stack\n",
        "\n",
        "    def is_empty(self):\n",
        "        \"\"\"Check if the stack is empty.\"\"\"\n",
        "        return self.top_index == -1\n",
        "\n",
        "    def is_full(self):\n",
        "        \"\"\"Check if the stack has reached its maximum capacity.\"\"\"\n",
        "        return self.top_index == self.max_size - 1\n",
        "\n",
        "    def push(self, element):\n",
        "        \"\"\"Add an element to the top of the stack.\"\"\"\n",
        "        if self.is_full():\n",
        "            raise OverflowError(\"Stack Overflow: Unable to push to a full stack.\")\n",
        "        self.top_index += 1  # Move the top index up\n",
        "        self.storage[self.top_index] = element  # Place the new element at the top\n",
        "\n",
        "    def pop(self):\n",
        "        \"\"\"Remove and return the top element from the stack.\"\"\"\n",
        "        if self.is_empty():\n",
        "            raise IndexError(\"Stack Underflow: Unable to pop from an empty stack.\")\n",
        "        element = self.storage[self.top_index]  # Retrieve the top element\n",
        "        self.top_index -= 1  # Move the top index down\n",
        "        return element\n",
        "\n",
        "    def peek(self):\n",
        "        \"\"\"Return the top element of the stack without removing it.\"\"\"\n",
        "        if self.is_empty():\n",
        "            raise IndexError(\"Stack is empty: Unable to peek.\")\n",
        "        return self.storage[self.top_index]  # Return the top element\n",
        "\n",
        "    def display(self):\n",
        "        \"\"\"Display the current elements in the stack.\"\"\"\n",
        "        if self.is_empty():\n",
        "            print(\"Stack is currently empty.\")\n",
        "        else:\n",
        "            print(\"Stack contents:\", self.storage[:self.top_index + 1])  # Show all elements up to top index\n",
        "\n",
        "# Example usage:\n",
        "if __name__ == \"__main__\":\n",
        "    stack = Stack(5)  # Create a stack with a maximum size of 5\n",
        "    stack.push(7)\n",
        "    stack.push(10)\n",
        "    stack.push(17)\n",
        "    stack.push(18)\n",
        "    stack.display()  # Output current stack contents\n",
        "    print(\"Top element:\", stack.peek())  # Display the top element without removing it\n",
        "    print(\"Popped element:\", stack.pop())  # Remove and display the top element\n",
        "    stack.display()  # Display stack contents after popping\n",
        "    stack.pop()  # Pop another element\n",
        "\n",
        "\n",
        "# Example usage:\n",
        "stack = Stack(5)\n",
        "stack.push(7)\n",
        "stack.push(10)\n",
        "stack.push(17)\n",
        "stack.push(18)\n",
        "stack.display()  # Output stack contents\n",
        "print(\"Top element:\", stack.peek())\n",
        "print(\"Pop element:\", stack.pop())\n",
        "stack.display()\n",
        "stack.pop()"
      ]
    }
  ]
}