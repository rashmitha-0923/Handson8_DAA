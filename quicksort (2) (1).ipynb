{
  "nbformat": 4,
  "nbformat_minor": 0,
  "metadata": {
    "colab": {
      "provenance": []
    },
    "kernelspec": {
      "name": "python3",
      "display_name": "Python 3"
    },
    "language_info": {
      "name": "python"
    }
  },
  "cells": [
    {
      "cell_type": "code",
      "execution_count": null,
      "metadata": {
        "colab": {
          "base_uri": "https://localhost:8080/"
        },
        "id": "oM3N1_PwS0IQ",
        "outputId": "b3c669eb-576a-4b42-a932-01466acd5c1c"
      },
      "outputs": [
        {
          "output_type": "stream",
          "name": "stdout",
          "text": [
            "The 4th smallest element is: 23\n"
          ]
        }
      ],
      "source": [
        "import random\n",
        "\n",
        "# Function to partition the array for the Quickselect method\n",
        "def partition_array(arr, low, high):\n",
        "    pivot = arr[high]  # Select the last element as the pivot\n",
        "    i = low  # Pointer to track the position of smaller elements\n",
        "    for j in range(low, high):\n",
        "        if arr[j] <= pivot:  # If the current element is less than or equal to the pivot\n",
        "            arr[i], arr[j] = arr[j], arr[i]  # Swap the elements\n",
        "            i += 1  # Move the pointer for smaller elements\n",
        "    arr[i], arr[high] = arr[high], arr[i]  # Place the pivot in its correct position\n",
        "    return i  # Return the index of the pivot\n",
        "\n",
        "# Quickselect function to retrieve the ith smallest element\n",
        "def quickselect_element(arr, low, high, i):\n",
        "    if low == high:\n",
        "        return arr[low]  # If only one element is present, return it\n",
        "\n",
        "    # Partition the array and obtain the pivot index\n",
        "    pivot_index = partition_array(arr, low, high)\n",
        "\n",
        "    # Determine if the pivot is the ith element\n",
        "    if i == pivot_index:\n",
        "        return arr[i]\n",
        "    elif i < pivot_index:\n",
        "        return quickselect_element(arr, low, pivot_index - 1, i)  # Search in the left section\n",
        "    else:\n",
        "        return quickselect_element(arr, pivot_index + 1, high, i)  # Search in the right section\n",
        "\n",
        "# Function to find the ith smallest element in a given array\n",
        "def find_ith_smallest(arr, i):\n",
        "    if i < 0 or i >= len(arr):\n",
        "        raise IndexError(\"Index out of bounds\")  # Raise an error for invalid index\n",
        "    return quickselect_element(arr, 0, len(arr) - 1, i)\n",
        "\n",
        "# Example demonstration\n",
        "if __name__ == \"__main__\":\n",
        "    array = [24, 10, 7, 18, 23, 99, 66]\n",
        "    index = 3  # Seeking the 4th smallest element (0-based index)\n",
        "    result = find_ith_smallest(array, index)\n",
        "    print(f\"The {index + 1}th smallest element is: {result}\")\n"
      ]
    }
  ]
}